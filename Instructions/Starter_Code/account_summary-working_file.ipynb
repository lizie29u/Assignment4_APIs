{
 "cells": [
  {
   "cell_type": "markdown",
   "metadata": {},
   "source": [
    " # Budget Analysis\n",
    "\n",
    "---\n",
    "\n",
    "## Environment Setup"
   ]
  },
  {
   "cell_type": "code",
   "execution_count": 1,
   "metadata": {},
   "outputs": [],
   "source": [
    "# Initial Imports\n",
    "import os\n",
    "import plaid\n",
    "import requests\n",
    "import datetime\n",
    "import json\n",
    "import pandas as pd\n",
    "from dotenv import load_dotenv\n",
    "import datetime as dt\n",
    "\n",
    "%matplotlib inline"
   ]
  },
  {
   "cell_type": "code",
   "execution_count": 2,
   "metadata": {},
   "outputs": [],
   "source": [
    "# Helper functions\n",
    "\n",
    "def pretty_print_response(response):\n",
    "    \"\"\"\n",
    "    This function formats a JSON file to pretty printing it in the screen.\n",
    "    \"\"\"\n",
    "    print(json.dumps(response, indent=4, sort_keys=True))"
   ]
  },
  {
   "cell_type": "code",
   "execution_count": 3,
   "metadata": {},
   "outputs": [
    {
     "data": {
      "text/plain": [
       "True"
      ]
     },
     "execution_count": 3,
     "metadata": {},
     "output_type": "execute_result"
    }
   ],
   "source": [
    "# Set environment variables from the .env file\n",
    "load_dotenv()"
   ]
  },
  {
   "cell_type": "code",
   "execution_count": 4,
   "metadata": {},
   "outputs": [],
   "source": [
    "# Extract API keys from environment variables\n",
    "PLAID_CLIENT_ID = os.getenv(\"PLAID_CLIENT_ID\")\n",
    "PLAID_SECRET = os.getenv(\"PLAID_SECRET\")\n",
    "PLAID_PUBLIC_KEY = os.getenv(\"PLAID_PUBLIC_KEY\")"
   ]
  },
  {
   "cell_type": "markdown",
   "metadata": {},
   "source": [
    "---\n",
    "\n",
    "## Plaid Access Token\n",
    "\n",
    "In this section, you will use the `plaid-python` API to generate the correct authentication tokens to access data in the free developer Sandbox. This mimics how you might connect to your own account or a customer account, but due to privacy issues, this homework will only require connecting to and analyzing the fake data from the developer sandbox that Plaid provides. \n",
    "\n",
    "Complete the following steps to generate an access token:\n",
    "\n",
    "1. Create a client to connect to plaid\n",
    "\n",
    "2. Use the client to generate a public token and request the following items: ['transactions', 'income', 'assets']\n",
    "\n",
    "3. Exchange the public token for an access token\n",
    "\n",
    "4. Test the access token by requesting and printing the available test accounts"
   ]
  },
  {
   "cell_type": "markdown",
   "metadata": {},
   "source": [
    "### 1. Create a client to connect to plaid"
   ]
  },
  {
   "cell_type": "code",
   "execution_count": 5,
   "metadata": {},
   "outputs": [],
   "source": [
    "# Create the client object\n",
    "client = plaid.Client(\n",
    "    client_id=PLAID_CLIENT_ID,\n",
    "    secret=PLAID_SECRET,\n",
    "    public_key=PLAID_PUBLIC_KEY,\n",
    "    environment=\"sandbox\")"
   ]
  },
  {
   "cell_type": "code",
   "execution_count": 6,
   "metadata": {},
   "outputs": [
    {
     "data": {
      "text/plain": [
       "{'institutions': [{'country_codes': ['US'],\n",
       "   'credentials': [{'label': 'Username', 'name': 'username', 'type': 'text'},\n",
       "    {'label': 'Password', 'name': 'password', 'type': 'password'}],\n",
       "   'has_mfa': True,\n",
       "   'input_spec': 'fixed',\n",
       "   'institution_id': 'ins_112060',\n",
       "   'mfa': ['code', 'list', 'questions', 'selections'],\n",
       "   'mfa_code_type': 'numeric',\n",
       "   'name': '1st Bank (Broadus, MT) - Personal',\n",
       "   'oauth': False,\n",
       "   'products': ['assets',\n",
       "    'auth',\n",
       "    'balance',\n",
       "    'transactions',\n",
       "    'income',\n",
       "    'identity'],\n",
       "   'routing_numbers': []}],\n",
       " 'request_id': 'cYOxdUo5qDg3JtX',\n",
       " 'total': 11391}"
      ]
     },
     "execution_count": 6,
     "metadata": {},
     "output_type": "execute_result"
    }
   ],
   "source": [
    "# Get institutions\n",
    "client.Institutions.get(1)"
   ]
  },
  {
   "cell_type": "code",
   "execution_count": 7,
   "metadata": {},
   "outputs": [],
   "source": [
    "# Set the institution id\n",
    "INSTITUTION_ID = \"ins_109508\""
   ]
  },
  {
   "cell_type": "markdown",
   "metadata": {},
   "source": [
    "### 2. Generate a public token"
   ]
  },
  {
   "cell_type": "code",
   "execution_count": 8,
   "metadata": {},
   "outputs": [
    {
     "name": "stdout",
     "output_type": "stream",
     "text": [
      "{'public_token': 'public-sandbox-fbd9a8b2-1234-4dac-9670-ab92fa3327bb', 'request_id': '6SuvNER71EEegPu'}\n"
     ]
    }
   ],
   "source": [
    "# Create the public token\n",
    "create_tkn_response = client.Sandbox.public_token.create(INSTITUTION_ID, [\"transactions\",\"income\",\"assets\"])\n",
    "\n",
    "# Print the public token\n",
    "print(create_tkn_response)\n",
    "\n"
   ]
  },
  {
   "cell_type": "markdown",
   "metadata": {},
   "source": [
    "### 3. Exchange the public token for an access token"
   ]
  },
  {
   "cell_type": "code",
   "execution_count": 9,
   "metadata": {},
   "outputs": [
    {
     "name": "stdout",
     "output_type": "stream",
     "text": [
      "{'access_token': 'access-sandbox-c6f05601-60f3-4d5b-ae2d-4fa5cc2a4600', 'item_id': 'nlAj9NxDl5CR75G3QVK4tEXXnay4bEF6BzvN3', 'request_id': 'yBusITIeNUlvCu9'}\n"
     ]
    }
   ],
   "source": [
    "# Retrieve the access token\n",
    "exchange_response = client.Item.public_token.exchange(create_tkn_response[\"public_token\"])\n",
    "\n",
    "# Print the access toke\n",
    "print(exchange_response)"
   ]
  },
  {
   "cell_type": "code",
   "execution_count": 10,
   "metadata": {},
   "outputs": [],
   "source": [
    "# Store the access token in a Python variable\n",
    "access_token = exchange_response[\"access_token\"]"
   ]
  },
  {
   "cell_type": "markdown",
   "metadata": {},
   "source": [
    "### 4. Fetch Accounts"
   ]
  },
  {
   "cell_type": "code",
   "execution_count": 11,
   "metadata": {},
   "outputs": [
    {
     "data": {
      "text/plain": [
       "{'accounts': [{'account_id': 'lvANoaBDvZtQVWGzRNldivNVXAwwqMCZB1619',\n",
       "   'balances': {'available': 100,\n",
       "    'current': 110,\n",
       "    'iso_currency_code': 'USD',\n",
       "    'limit': None,\n",
       "    'unofficial_currency_code': None},\n",
       "   'mask': '0000',\n",
       "   'name': 'Plaid Checking',\n",
       "   'official_name': 'Plaid Gold Standard 0% Interest Checking',\n",
       "   'subtype': 'checking',\n",
       "   'type': 'depository'},\n",
       "  {'account_id': 'qrAQo74DrRc879WQjznJHm514oVVb6Udl8BJw',\n",
       "   'balances': {'available': 200,\n",
       "    'current': 210,\n",
       "    'iso_currency_code': 'USD',\n",
       "    'limit': None,\n",
       "    'unofficial_currency_code': None},\n",
       "   'mask': '1111',\n",
       "   'name': 'Plaid Saving',\n",
       "   'official_name': 'Plaid Silver Standard 0.1% Interest Saving',\n",
       "   'subtype': 'savings',\n",
       "   'type': 'depository'},\n",
       "  {'account_id': 'KqPmWM3dqnTeoxpP7G5zC1EDK7aaokFVogr6e',\n",
       "   'balances': {'available': None,\n",
       "    'current': 1000,\n",
       "    'iso_currency_code': 'USD',\n",
       "    'limit': None,\n",
       "    'unofficial_currency_code': None},\n",
       "   'mask': '2222',\n",
       "   'name': 'Plaid CD',\n",
       "   'official_name': 'Plaid Bronze Standard 0.2% Interest CD',\n",
       "   'subtype': 'cd',\n",
       "   'type': 'depository'},\n",
       "  {'account_id': 'rzwZoeNDzJu46KGlXM3jSjXEm1PPxzFlbLNyE',\n",
       "   'balances': {'available': None,\n",
       "    'current': 410,\n",
       "    'iso_currency_code': 'USD',\n",
       "    'limit': 2000,\n",
       "    'unofficial_currency_code': None},\n",
       "   'mask': '3333',\n",
       "   'name': 'Plaid Credit Card',\n",
       "   'official_name': 'Plaid Diamond 12.5% APR Interest Credit Card',\n",
       "   'subtype': 'credit card',\n",
       "   'type': 'credit'},\n",
       "  {'account_id': 'zPzb1gorPmtv5EMRg4kVuJKABrPPqjFodD6Ez',\n",
       "   'balances': {'available': 43200,\n",
       "    'current': 43200,\n",
       "    'iso_currency_code': 'USD',\n",
       "    'limit': None,\n",
       "    'unofficial_currency_code': None},\n",
       "   'mask': '4444',\n",
       "   'name': 'Plaid Money Market',\n",
       "   'official_name': 'Plaid Platinum Standard 1.85% Interest Money Market',\n",
       "   'subtype': 'money market',\n",
       "   'type': 'depository'},\n",
       "  {'account_id': 'BGkmWayZGRTJbGLl15EMIPgNqvXXdEtwvqV7N',\n",
       "   'balances': {'available': None,\n",
       "    'current': 320.76,\n",
       "    'iso_currency_code': 'USD',\n",
       "    'limit': None,\n",
       "    'unofficial_currency_code': None},\n",
       "   'mask': '5555',\n",
       "   'name': 'Plaid IRA',\n",
       "   'official_name': None,\n",
       "   'subtype': 'ira',\n",
       "   'type': 'investment'},\n",
       "  {'account_id': '3jJNx6kbjKiPqoNynWRXf5kw7elljVcqgG5w3',\n",
       "   'balances': {'available': None,\n",
       "    'current': 23631.9805,\n",
       "    'iso_currency_code': 'USD',\n",
       "    'limit': None,\n",
       "    'unofficial_currency_code': None},\n",
       "   'mask': '6666',\n",
       "   'name': 'Plaid 401k',\n",
       "   'official_name': None,\n",
       "   'subtype': '401k',\n",
       "   'type': 'investment'},\n",
       "  {'account_id': 'x4KJmpkq4rtl76X35APJFwZeAP77d6cnMmL9V',\n",
       "   'balances': {'available': None,\n",
       "    'current': 65262,\n",
       "    'iso_currency_code': 'USD',\n",
       "    'limit': None,\n",
       "    'unofficial_currency_code': None},\n",
       "   'mask': '7777',\n",
       "   'name': 'Plaid Student Loan',\n",
       "   'official_name': None,\n",
       "   'subtype': 'student',\n",
       "   'type': 'loan'},\n",
       "  {'account_id': 'dWZr9q7XWwud9ykDbqWnFLBjXZllRouZyorPa',\n",
       "   'balances': {'available': None,\n",
       "    'current': 56302.06,\n",
       "    'iso_currency_code': 'USD',\n",
       "    'limit': None,\n",
       "    'unofficial_currency_code': None},\n",
       "   'mask': '8888',\n",
       "   'name': 'Plaid Mortgage',\n",
       "   'official_name': None,\n",
       "   'subtype': 'mortgage',\n",
       "   'type': 'loan'}],\n",
       " 'item': {'available_products': ['auth',\n",
       "   'balance',\n",
       "   'credit_details',\n",
       "   'identity',\n",
       "   'investments',\n",
       "   'liabilities'],\n",
       "  'billed_products': ['assets', 'income', 'transactions'],\n",
       "  'consent_expiration_time': None,\n",
       "  'error': None,\n",
       "  'institution_id': 'ins_109508',\n",
       "  'item_id': 'nlAj9NxDl5CR75G3QVK4tEXXnay4bEF6BzvN3',\n",
       "  'webhook': ''},\n",
       " 'request_id': '08OnO2J2jUnTWq1'}"
      ]
     },
     "execution_count": 11,
     "metadata": {},
     "output_type": "execute_result"
    }
   ],
   "source": [
    "# Retrieve accounts\n",
    "client.Accounts.get(access_token)\n",
    "\n",
    "# Print accounts\n"
   ]
  },
  {
   "cell_type": "markdown",
   "metadata": {},
   "source": [
    "---\n",
    "\n",
    "# Account Transactions with Plaid\n",
    "\n",
    "In this section, you will use the Plaid Python SDK to connect to the Developer Sandbox account and grab a list of transactions. You will need to complete the following steps:\n",
    "\n",
    "\n",
    "1. Use the access token to fetch the transactions for the last 90 days\n",
    "\n",
    "2. Print the categories for each transaction type\n",
    "\n",
    "3. Create a new DataFrame using the following fields from the JSON transaction data: `date, name, amount, category`. (For categories with more than one label, just use the first category label in the list)\n",
    "\n",
    "4. Convert the data types to the appropriate types (i.e. datetimeindex for the date and float for the amount)"
   ]
  },
  {
   "cell_type": "markdown",
   "metadata": {},
   "source": [
    "### 1. Fetch the Transactions for the last 90 days"
   ]
  },
  {
   "cell_type": "code",
   "execution_count": 12,
   "metadata": {},
   "outputs": [
    {
     "name": "stdout",
     "output_type": "stream",
     "text": [
      "[\n",
      "    {\n",
      "        \"account_id\": \"rzwZoeNDzJu46KGlXM3jSjXEm1PPxzFlbLNyE\",\n",
      "        \"account_owner\": null,\n",
      "        \"amount\": 500,\n",
      "        \"authorized_date\": null,\n",
      "        \"category\": [\n",
      "            \"Travel\",\n",
      "            \"Airlines and Aviation Services\"\n",
      "        ],\n",
      "        \"category_id\": \"22001000\",\n",
      "        \"date\": \"2020-06-29\",\n",
      "        \"iso_currency_code\": \"USD\",\n",
      "        \"location\": {\n",
      "            \"address\": null,\n",
      "            \"city\": null,\n",
      "            \"country\": null,\n",
      "            \"lat\": null,\n",
      "            \"lon\": null,\n",
      "            \"postal_code\": null,\n",
      "            \"region\": null,\n",
      "            \"store_number\": null\n",
      "        },\n",
      "        \"merchant_name\": \"United Airlines\",\n",
      "        \"name\": \"United Airlines\",\n",
      "        \"payment_channel\": \"in store\",\n",
      "        \"payment_meta\": {\n",
      "            \"by_order_of\": null,\n",
      "            \"payee\": null,\n",
      "            \"payer\": null,\n",
      "            \"payment_method\": null,\n",
      "            \"payment_processor\": null,\n",
      "            \"ppd_id\": null,\n",
      "            \"reason\": null,\n",
      "            \"reference_number\": null\n",
      "        },\n",
      "        \"pending\": false,\n",
      "        \"pending_transaction_id\": null,\n",
      "        \"transaction_code\": null,\n",
      "        \"transaction_id\": \"BGkmWayZGRTJbGLl15EMIPgNPlPKErCwoBeN6\",\n",
      "        \"transaction_type\": \"special\",\n",
      "        \"unofficial_currency_code\": null\n",
      "    },\n",
      "    {\n",
      "        \"account_id\": \"lvANoaBDvZtQVWGzRNldivNVXAwwqMCZB1619\",\n",
      "        \"account_owner\": null,\n",
      "        \"amount\": 6.33,\n",
      "        \"authorized_date\": null,\n",
      "        \"category\": [\n",
      "            \"Travel\",\n",
      "            \"Taxi\"\n",
      "        ],\n",
      "        \"category_id\": \"22016000\",\n",
      "        \"date\": \"2020-06-27\",\n",
      "        \"iso_currency_code\": \"USD\",\n",
      "        \"location\": {\n",
      "            \"address\": null,\n",
      "            \"city\": null,\n",
      "            \"country\": null,\n",
      "            \"lat\": null,\n",
      "            \"lon\": null,\n",
      "            \"postal_code\": null,\n",
      "            \"region\": null,\n",
      "            \"store_number\": null\n",
      "        },\n",
      "        \"merchant_name\": \"Uber\",\n",
      "        \"name\": \"Uber 072515 SF**POOL**\",\n",
      "        \"payment_channel\": \"in store\",\n",
      "        \"payment_meta\": {\n",
      "            \"by_order_of\": null,\n",
      "            \"payee\": null,\n",
      "            \"payer\": null,\n",
      "            \"payment_method\": null,\n",
      "            \"payment_processor\": null,\n",
      "            \"ppd_id\": null,\n",
      "            \"reason\": null,\n",
      "            \"reference_number\": null\n",
      "        },\n",
      "        \"pending\": false,\n",
      "        \"pending_transaction_id\": null,\n",
      "        \"transaction_code\": null,\n",
      "        \"transaction_id\": \"waqo1LQlaKswklGWb4V1C4aZ4z4egXcrXGexE\",\n",
      "        \"transaction_type\": \"special\",\n",
      "        \"unofficial_currency_code\": null\n",
      "    }\n",
      "]\n"
     ]
    }
   ],
   "source": [
    "# Set the start and end date 90 days from today\n",
    "start_date = \"{:%Y-%m-%d}\".format(datetime.datetime.now() + datetime.timedelta(-90))\n",
    "end_date = \"{:%Y-%m-%d}\".format(datetime.datetime.now())\n",
    "\n",
    "\n",
    "# Retrieve the transactions for the last 90 days\n",
    "transaction_response = client.Transactions.get(access_token,start_date,end_date)\n",
    "\n",
    "# Print the transactions\n",
    "print(json.dumps(transaction_response[\"transactions\"][ :2],indent=4, sort_keys=True))"
   ]
  },
  {
   "cell_type": "markdown",
   "metadata": {},
   "source": [
    "### 2. Print the categories for each transaction"
   ]
  },
  {
   "cell_type": "code",
   "execution_count": 13,
   "metadata": {},
   "outputs": [
    {
     "name": "stdout",
     "output_type": "stream",
     "text": [
      "['Travel', 'Airlines and Aviation Services']\n",
      "['Travel', 'Taxi']\n",
      "['Food and Drink', 'Restaurants']\n",
      "['Payment']\n",
      "['Food and Drink', 'Restaurants', 'Fast Food']\n",
      "['Shops', 'Sporting Goods']\n",
      "['Payment', 'Credit Card']\n",
      "['Travel', 'Taxi']\n",
      "['Transfer', 'Debit']\n",
      "['Transfer', 'Deposit']\n",
      "['Recreation', 'Gyms and Fitness Centers']\n",
      "['Travel', 'Airlines and Aviation Services']\n",
      "['Food and Drink', 'Restaurants', 'Fast Food']\n",
      "['Food and Drink', 'Restaurants', 'Coffee Shop']\n",
      "['Food and Drink', 'Restaurants']\n",
      "['Transfer', 'Credit']\n",
      "['Travel', 'Airlines and Aviation Services']\n",
      "['Travel', 'Taxi']\n",
      "['Food and Drink', 'Restaurants']\n",
      "['Payment']\n",
      "['Food and Drink', 'Restaurants', 'Fast Food']\n",
      "['Shops', 'Sporting Goods']\n",
      "['Payment', 'Credit Card']\n",
      "['Travel', 'Taxi']\n",
      "['Transfer', 'Debit']\n",
      "['Transfer', 'Deposit']\n",
      "['Recreation', 'Gyms and Fitness Centers']\n",
      "['Travel', 'Airlines and Aviation Services']\n",
      "['Food and Drink', 'Restaurants', 'Fast Food']\n",
      "['Food and Drink', 'Restaurants', 'Coffee Shop']\n",
      "['Food and Drink', 'Restaurants']\n",
      "['Transfer', 'Credit']\n",
      "['Travel', 'Airlines and Aviation Services']\n",
      "['Travel', 'Taxi']\n",
      "['Food and Drink', 'Restaurants']\n",
      "['Payment']\n",
      "['Food and Drink', 'Restaurants', 'Fast Food']\n",
      "['Shops', 'Sporting Goods']\n",
      "['Payment', 'Credit Card']\n",
      "['Travel', 'Taxi']\n",
      "['Transfer', 'Debit']\n",
      "['Transfer', 'Deposit']\n",
      "['Recreation', 'Gyms and Fitness Centers']\n",
      "['Travel', 'Airlines and Aviation Services']\n",
      "['Food and Drink', 'Restaurants', 'Fast Food']\n",
      "['Food and Drink', 'Restaurants', 'Coffee Shop']\n",
      "['Food and Drink', 'Restaurants']\n",
      "['Transfer', 'Credit']\n"
     ]
    }
   ],
   "source": [
    "# Create a for-loop to print the categories for each transaction\n",
    "#print(json.dumps(transaction_response[\"transactions\"][0][\"category\"],indent=4, sort_keys=True))\n",
    "\n",
    "\n",
    "for transaction in transaction_response[\"transactions\"]:\n",
    "     print(transaction[\"category\"])\n",
    "\n",
    "\n"
   ]
  },
  {
   "cell_type": "markdown",
   "metadata": {},
   "source": [
    "### 3. Create a new DataFrame using the following fields from the JSON transaction data: `date`, `name`, `amount`, `category`. \n",
    "\n",
    "(For categories with more than one label, just use the first category label in the list)"
   ]
  },
  {
   "cell_type": "code",
   "execution_count": 14,
   "metadata": {},
   "outputs": [
    {
     "data": {
      "text/html": [
       "<div>\n",
       "<style scoped>\n",
       "    .dataframe tbody tr th:only-of-type {\n",
       "        vertical-align: middle;\n",
       "    }\n",
       "\n",
       "    .dataframe tbody tr th {\n",
       "        vertical-align: top;\n",
       "    }\n",
       "\n",
       "    .dataframe thead th {\n",
       "        text-align: right;\n",
       "    }\n",
       "</style>\n",
       "<table border=\"1\" class=\"dataframe\">\n",
       "  <thead>\n",
       "    <tr style=\"text-align: right;\">\n",
       "      <th></th>\n",
       "      <th>date</th>\n",
       "      <th>name</th>\n",
       "      <th>amount</th>\n",
       "      <th>category</th>\n",
       "    </tr>\n",
       "  </thead>\n",
       "  <tbody>\n",
       "    <tr>\n",
       "      <th>0</th>\n",
       "      <td>2020-06-29</td>\n",
       "      <td>United Airlines</td>\n",
       "      <td>500.00</td>\n",
       "      <td>Travel</td>\n",
       "    </tr>\n",
       "    <tr>\n",
       "      <th>1</th>\n",
       "      <td>2020-06-27</td>\n",
       "      <td>Uber 072515 SF**POOL**</td>\n",
       "      <td>6.33</td>\n",
       "      <td>Travel</td>\n",
       "    </tr>\n",
       "    <tr>\n",
       "      <th>2</th>\n",
       "      <td>2020-06-24</td>\n",
       "      <td>Tectra Inc</td>\n",
       "      <td>500.00</td>\n",
       "      <td>Food and Drink</td>\n",
       "    </tr>\n",
       "    <tr>\n",
       "      <th>3</th>\n",
       "      <td>2020-06-23</td>\n",
       "      <td>AUTOMATIC PAYMENT - THANK</td>\n",
       "      <td>2078.50</td>\n",
       "      <td>Payment</td>\n",
       "    </tr>\n",
       "    <tr>\n",
       "      <th>4</th>\n",
       "      <td>2020-06-23</td>\n",
       "      <td>KFC</td>\n",
       "      <td>500.00</td>\n",
       "      <td>Food and Drink</td>\n",
       "    </tr>\n",
       "  </tbody>\n",
       "</table>\n",
       "</div>"
      ],
      "text/plain": [
       "         date                       name   amount        category\n",
       "0  2020-06-29            United Airlines   500.00          Travel\n",
       "1  2020-06-27     Uber 072515 SF**POOL**     6.33          Travel\n",
       "2  2020-06-24                 Tectra Inc   500.00  Food and Drink\n",
       "3  2020-06-23  AUTOMATIC PAYMENT - THANK  2078.50         Payment\n",
       "4  2020-06-23                        KFC   500.00  Food and Drink"
      ]
     },
     "execution_count": 14,
     "metadata": {},
     "output_type": "execute_result"
    }
   ],
   "source": [
    "# Define an empty DataFrame and set the columns as date, name, amount, and category\n",
    "\n",
    "df = pd.DataFrame()\n",
    "\n",
    "#columns=[\"date\", \"name\", \"amount\", \"category\"]\n",
    "\n",
    "\n",
    "# Retrieve all the transactions\n",
    "date = []\n",
    "for transaction in transaction_response[\"transactions\"]:\n",
    "    date.append(transaction[\"date\"])\n",
    "#print(date)\n",
    "\n",
    "name = []\n",
    "for transaction in transaction_response[\"transactions\"]:\n",
    "    name.append(transaction[\"name\"])\n",
    "#print(name)\n",
    "\n",
    "amount = []\n",
    "for transaction in transaction_response[\"transactions\"]:\n",
    "    amount.append(transaction[\"amount\"])\n",
    "#print(amount)\n",
    "\n",
    "category = []\n",
    "for transaction in transaction_response[\"transactions\"]:\n",
    "    category.append(transaction[\"category\"][0])\n",
    "#print(category)\n",
    "\n",
    "\n",
    "# Populate the transactions DataFrame with the transactions data\n",
    "\n",
    "df = pd.DataFrame({'date':date,'name':name, 'amount':amount,'category':category}, columns=['date','name','amount','category'])                               \n",
    "                                \n",
    "\n",
    "# Display sample data from the DataFrame   \n",
    "df.head()\n"
   ]
  },
  {
   "cell_type": "markdown",
   "metadata": {},
   "source": [
    "### 4. Convert the data types to the appropriate types \n",
    "\n",
    "(i.e. datetimeindex for the date and float for the amount)"
   ]
  },
  {
   "cell_type": "code",
   "execution_count": 15,
   "metadata": {},
   "outputs": [
    {
     "data": {
      "text/plain": [
       "date         object\n",
       "name         object\n",
       "amount      float64\n",
       "category     object\n",
       "dtype: object"
      ]
     },
     "execution_count": 15,
     "metadata": {},
     "output_type": "execute_result"
    }
   ],
   "source": [
    "# Display data types\n",
    "df.dtypes"
   ]
  },
  {
   "cell_type": "code",
   "execution_count": 16,
   "metadata": {},
   "outputs": [
    {
     "data": {
      "text/html": [
       "<div>\n",
       "<style scoped>\n",
       "    .dataframe tbody tr th:only-of-type {\n",
       "        vertical-align: middle;\n",
       "    }\n",
       "\n",
       "    .dataframe tbody tr th {\n",
       "        vertical-align: top;\n",
       "    }\n",
       "\n",
       "    .dataframe thead th {\n",
       "        text-align: right;\n",
       "    }\n",
       "</style>\n",
       "<table border=\"1\" class=\"dataframe\">\n",
       "  <thead>\n",
       "    <tr style=\"text-align: right;\">\n",
       "      <th></th>\n",
       "      <th>date</th>\n",
       "      <th>name</th>\n",
       "      <th>amount</th>\n",
       "      <th>category</th>\n",
       "    </tr>\n",
       "  </thead>\n",
       "  <tbody>\n",
       "    <tr>\n",
       "      <th>0</th>\n",
       "      <td>2020-06-29</td>\n",
       "      <td>United Airlines</td>\n",
       "      <td>500.00</td>\n",
       "      <td>Travel</td>\n",
       "    </tr>\n",
       "    <tr>\n",
       "      <th>1</th>\n",
       "      <td>2020-06-27</td>\n",
       "      <td>Uber 072515 SF**POOL**</td>\n",
       "      <td>6.33</td>\n",
       "      <td>Travel</td>\n",
       "    </tr>\n",
       "    <tr>\n",
       "      <th>2</th>\n",
       "      <td>2020-06-24</td>\n",
       "      <td>Tectra Inc</td>\n",
       "      <td>500.00</td>\n",
       "      <td>Food and Drink</td>\n",
       "    </tr>\n",
       "    <tr>\n",
       "      <th>3</th>\n",
       "      <td>2020-06-23</td>\n",
       "      <td>AUTOMATIC PAYMENT - THANK</td>\n",
       "      <td>2078.50</td>\n",
       "      <td>Payment</td>\n",
       "    </tr>\n",
       "    <tr>\n",
       "      <th>4</th>\n",
       "      <td>2020-06-23</td>\n",
       "      <td>KFC</td>\n",
       "      <td>500.00</td>\n",
       "      <td>Food and Drink</td>\n",
       "    </tr>\n",
       "  </tbody>\n",
       "</table>\n",
       "</div>"
      ],
      "text/plain": [
       "        date                       name   amount        category\n",
       "0 2020-06-29            United Airlines   500.00          Travel\n",
       "1 2020-06-27     Uber 072515 SF**POOL**     6.33          Travel\n",
       "2 2020-06-24                 Tectra Inc   500.00  Food and Drink\n",
       "3 2020-06-23  AUTOMATIC PAYMENT - THANK  2078.50         Payment\n",
       "4 2020-06-23                        KFC   500.00  Food and Drink"
      ]
     },
     "execution_count": 16,
     "metadata": {},
     "output_type": "execute_result"
    }
   ],
   "source": [
    "# Make any required data type transformation\n",
    "#Format date\n",
    "df['date'] = pd.to_datetime(df.date, dayfirst=True)\n",
    "df.head()\n"
   ]
  },
  {
   "cell_type": "code",
   "execution_count": 17,
   "metadata": {},
   "outputs": [
    {
     "data": {
      "text/html": [
       "<div>\n",
       "<style scoped>\n",
       "    .dataframe tbody tr th:only-of-type {\n",
       "        vertical-align: middle;\n",
       "    }\n",
       "\n",
       "    .dataframe tbody tr th {\n",
       "        vertical-align: top;\n",
       "    }\n",
       "\n",
       "    .dataframe thead th {\n",
       "        text-align: right;\n",
       "    }\n",
       "</style>\n",
       "<table border=\"1\" class=\"dataframe\">\n",
       "  <thead>\n",
       "    <tr style=\"text-align: right;\">\n",
       "      <th></th>\n",
       "      <th>name</th>\n",
       "      <th>amount</th>\n",
       "      <th>category</th>\n",
       "    </tr>\n",
       "    <tr>\n",
       "      <th>date</th>\n",
       "      <th></th>\n",
       "      <th></th>\n",
       "      <th></th>\n",
       "    </tr>\n",
       "  </thead>\n",
       "  <tbody>\n",
       "    <tr>\n",
       "      <th>2020-04-10</th>\n",
       "      <td>INTRST PYMNT</td>\n",
       "      <td>-4.22</td>\n",
       "      <td>Transfer</td>\n",
       "    </tr>\n",
       "    <tr>\n",
       "      <th>2020-04-11</th>\n",
       "      <td>SparkFun</td>\n",
       "      <td>89.40</td>\n",
       "      <td>Food and Drink</td>\n",
       "    </tr>\n",
       "    <tr>\n",
       "      <th>2020-04-12</th>\n",
       "      <td>McDonald's</td>\n",
       "      <td>12.00</td>\n",
       "      <td>Food and Drink</td>\n",
       "    </tr>\n",
       "    <tr>\n",
       "      <th>2020-04-12</th>\n",
       "      <td>Starbucks</td>\n",
       "      <td>4.33</td>\n",
       "      <td>Food and Drink</td>\n",
       "    </tr>\n",
       "    <tr>\n",
       "      <th>2020-04-13</th>\n",
       "      <td>United Airlines</td>\n",
       "      <td>-500.00</td>\n",
       "      <td>Travel</td>\n",
       "    </tr>\n",
       "  </tbody>\n",
       "</table>\n",
       "</div>"
      ],
      "text/plain": [
       "                       name  amount        category\n",
       "date                                               \n",
       "2020-04-10     INTRST PYMNT   -4.22        Transfer\n",
       "2020-04-11         SparkFun   89.40  Food and Drink\n",
       "2020-04-12       McDonald's   12.00  Food and Drink\n",
       "2020-04-12        Starbucks    4.33  Food and Drink\n",
       "2020-04-13  United Airlines -500.00          Travel"
      ]
     },
     "execution_count": 17,
     "metadata": {},
     "output_type": "execute_result"
    }
   ],
   "source": [
    "# Set the date column as index\n",
    "#set Index\n",
    "df = df.set_index(\"date\")\n",
    "\n",
    "#sort date in ascending order\n",
    "df = df.sort_index(ascending=True)\n",
    "\n",
    "df.head()\n",
    "\n",
    "# Display sample data\n"
   ]
  },
  {
   "cell_type": "code",
   "execution_count": null,
   "metadata": {},
   "outputs": [],
   "source": []
  },
  {
   "cell_type": "markdown",
   "metadata": {},
   "source": [
    " ---"
   ]
  },
  {
   "cell_type": "markdown",
   "metadata": {},
   "source": [
    "# Income Analysis with Plaid\n",
    "\n",
    "In this section, you will use the Plaid Sandbox to complete the following:\n",
    "\n",
    "1. Determine the previous year's gross income and print the results\n",
    "\n",
    "2. Determine the current monthly income and print the results\n",
    "\n",
    "3. Determine the projected yearly income and print the results"
   ]
  },
  {
   "cell_type": "code",
   "execution_count": 18,
   "metadata": {},
   "outputs": [],
   "source": [
    "# Fetch de income data\n",
    "\n",
    "# Print the income data\n"
   ]
  },
  {
   "cell_type": "code",
   "execution_count": 20,
   "metadata": {},
   "outputs": [],
   "source": [
    "# Set the start and end date for last year\n",
    "start_date = \"{:%Y-%m-%d}\".format(datetime.datetime.now() + datetime.timedelta(-90))\n",
    "end_date = \"{:%Y-%m-%d}\".format(datetime.datetime.now())\n",
    "\n",
    "\n",
    "# Retrieve the transactions for  lastyears\n",
    "#transaction_response = client.Transactions.get(access_token,start_date,end_date)\n",
    "\n",
    "# Print the transactions\n",
    "#print(json.dumps(transaction_response[\"transactions\"][ :2],indent=4, sort_keys=True))"
   ]
  },
  {
   "cell_type": "code",
   "execution_count": null,
   "metadata": {},
   "outputs": [],
   "source": [
    "# # Set the start and end date  days for previous year\n",
    "\n",
    "# # Set timeframe to \"1D\"\n",
    "# timeframe = \"1D\"\n",
    "\n",
    "# start_date = pd.Timestamp(\"2019-01-01\", tz=\"America/New_York\").isoformat()\n",
    "# end_date = pd.Timestamp(\"2019-12-31\", tz=\"America/New_York\").isoformat()\n",
    "\n",
    "# # Get 1 year\"s worth of income\n",
    "# df = api.get_barset(\n",
    "#     ticker,\n",
    "#     timeframe,\n",
    "#     limit=None,\n",
    "#     start=start_date,\n",
    "#     end=end_date,\n",
    "#     after=None,\n",
    "#     until=None,\n",
    "# ).df\n",
    "\n",
    "# df.head()\n",
    "\n",
    "\n",
    "\n",
    "# Print the transactions\n",
    "#print(json.dumps(transaction_response[\"income\"][ :2],indent=4, sort_keys=True))"
   ]
  },
  {
   "cell_type": "code",
   "execution_count": null,
   "metadata": {},
   "outputs": [],
   "source": [
    "# Determine the previous year's gross income and print the results\n"
   ]
  },
  {
   "cell_type": "code",
   "execution_count": null,
   "metadata": {},
   "outputs": [],
   "source": [
    "# Determine the current monthly income and print the results\n"
   ]
  },
  {
   "cell_type": "code",
   "execution_count": null,
   "metadata": {},
   "outputs": [],
   "source": [
    "# Determine the projected yearly income and print the results\n"
   ]
  },
  {
   "cell_type": "markdown",
   "metadata": {},
   "source": [
    "---"
   ]
  },
  {
   "cell_type": "markdown",
   "metadata": {},
   "source": [
    "# Budget Analysis\n",
    "In this section, you will use the transactions DataFrame to analyze the customer's budget\n",
    "\n",
    "1. Calculate the total spending per category and print the results (Hint: groupby or count transactions per category)\n",
    "\n",
    "2. Generate a bar chart with the number of transactions for each category\n",
    "\n",
    "3. Calulate the expenses per month\n",
    "\n",
    "4. Plot the total expenses per month"
   ]
  },
  {
   "cell_type": "markdown",
   "metadata": {},
   "source": [
    "### Calculate the expenses per category"
   ]
  },
  {
   "cell_type": "code",
   "execution_count": 24,
   "metadata": {},
   "outputs": [
    {
     "data": {
      "text/html": [
       "<div>\n",
       "<style scoped>\n",
       "    .dataframe tbody tr th:only-of-type {\n",
       "        vertical-align: middle;\n",
       "    }\n",
       "\n",
       "    .dataframe tbody tr th {\n",
       "        vertical-align: top;\n",
       "    }\n",
       "\n",
       "    .dataframe thead th {\n",
       "        text-align: right;\n",
       "    }\n",
       "</style>\n",
       "<table border=\"1\" class=\"dataframe\">\n",
       "  <thead>\n",
       "    <tr style=\"text-align: right;\">\n",
       "      <th></th>\n",
       "      <th>amount</th>\n",
       "    </tr>\n",
       "    <tr>\n",
       "      <th>category</th>\n",
       "      <th></th>\n",
       "    </tr>\n",
       "  </thead>\n",
       "  <tbody>\n",
       "    <tr>\n",
       "      <th>Food and Drink</th>\n",
       "      <td>3317.19</td>\n",
       "    </tr>\n",
       "    <tr>\n",
       "      <th>Payment</th>\n",
       "      <td>6310.50</td>\n",
       "    </tr>\n",
       "    <tr>\n",
       "      <th>Recreation</th>\n",
       "      <td>235.50</td>\n",
       "    </tr>\n",
       "    <tr>\n",
       "      <th>Shops</th>\n",
       "      <td>1500.00</td>\n",
       "    </tr>\n",
       "    <tr>\n",
       "      <th>Transfer</th>\n",
       "      <td>20537.34</td>\n",
       "    </tr>\n",
       "    <tr>\n",
       "      <th>Travel</th>\n",
       "      <td>35.19</td>\n",
       "    </tr>\n",
       "  </tbody>\n",
       "</table>\n",
       "</div>"
      ],
      "text/plain": [
       "                  amount\n",
       "category                \n",
       "Food and Drink   3317.19\n",
       "Payment          6310.50\n",
       "Recreation        235.50\n",
       "Shops            1500.00\n",
       "Transfer        20537.34\n",
       "Travel             35.19"
      ]
     },
     "execution_count": 24,
     "metadata": {},
     "output_type": "execute_result"
    }
   ],
   "source": [
    "# Compute the total expenses per category\n",
    "\n",
    "# Group by `Category` and perform count\n",
    "df.groupby('category').sum()\n",
    "\n",
    "\n",
    "# Display the expenses per catefory\n"
   ]
  },
  {
   "cell_type": "code",
   "execution_count": null,
   "metadata": {},
   "outputs": [],
   "source": [
    "# Create a spending categories pie chart.\n"
   ]
  },
  {
   "cell_type": "markdown",
   "metadata": {},
   "source": [
    "### Calculate the expenses per month"
   ]
  },
  {
   "cell_type": "code",
   "execution_count": null,
   "metadata": {},
   "outputs": [],
   "source": [
    "# Create a DataFrame with the total expenses\n",
    "\n",
    "# Display sample data\n"
   ]
  },
  {
   "cell_type": "code",
   "execution_count": null,
   "metadata": {},
   "outputs": [],
   "source": [
    "# Create a spending per month bar chart\n"
   ]
  },
  {
   "cell_type": "code",
   "execution_count": null,
   "metadata": {},
   "outputs": [],
   "source": []
  }
 ],
 "metadata": {
  "kernelspec": {
   "display_name": "Python 3",
   "language": "python",
   "name": "python3"
  },
  "language_info": {
   "codemirror_mode": {
    "name": "ipython",
    "version": 3
   },
   "file_extension": ".py",
   "mimetype": "text/x-python",
   "name": "python",
   "nbconvert_exporter": "python",
   "pygments_lexer": "ipython3",
   "version": "3.7.7"
  }
 },
 "nbformat": 4,
 "nbformat_minor": 4
}
