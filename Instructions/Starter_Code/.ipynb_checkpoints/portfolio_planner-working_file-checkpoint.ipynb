{
 "cells": [
  {
   "cell_type": "markdown",
   "metadata": {},
   "source": [
    "# Retirement Planner\n",
    "\n",
    "---\n",
    "\n",
    "## Environment Setup"
   ]
  },
  {
   "cell_type": "code",
   "execution_count": 1,
   "metadata": {},
   "outputs": [],
   "source": [
    "# Import libraries and dependencies\n",
    "import numpy as np\n",
    "import pandas as pd\n",
    "import os\n",
    "from datetime import datetime, timedelta\n",
    "import matplotlib.pyplot as plt\n",
    "import alpaca_trade_api as tradeapi\n",
    "%matplotlib inline"
   ]
  },
  {
   "cell_type": "code",
   "execution_count": 2,
   "metadata": {},
   "outputs": [],
   "source": [
    "# Set the random seed for resutls reproducibility (for testing purposes only)\n",
    "np.random.seed(42)"
   ]
  },
  {
   "cell_type": "markdown",
   "metadata": {},
   "source": [
    "---\n",
    "\n",
    "## Portfolio Planner\n",
    "\n",
    "In this activity, you will use the Alpaca API to grab historical data for a `60/40` portfolio using `SPY` to represent the stock portion and `AGG` to represent the bonds."
   ]
  },
  {
   "cell_type": "code",
   "execution_count": 3,
   "metadata": {},
   "outputs": [],
   "source": [
    "# Load .env enviroment variables\n",
    "from dotenv import load_dotenv\n",
    "load_dotenv()\n",
    "\n",
    "# Set Alpaca API key and secret\n",
    "alpaca_api_key = os.getenv(\"ALPACA_API_KEY\")\n",
    "alpaca_secret_key = os.getenv(\"ALPACA_SECRET_KEY\")\n",
    "\n",
    "\n",
    "# Create the Alpaca API object\n",
    "api = tradeapi.REST(\n",
    "    alpaca_api_key,\n",
    "    alpaca_secret_key,\n",
    "    api_version=\"v2\")"
   ]
  },
  {
   "cell_type": "markdown",
   "metadata": {},
   "source": [
    "# Data Collection\n",
    "\n",
    "In this step, you will need to use the Alpaca api to fetch closing prices for the `SPY` and `AGG` tickers. Save the results as a pandas DataFrame"
   ]
  },
  {
   "cell_type": "code",
   "execution_count": 4,
   "metadata": {},
   "outputs": [],
   "source": [
    "# Subset your tickers, then pull returns data:\n",
    "# Set the ticker\n",
    "ticker = [\"SPY\", \"AGG\"]\n",
    "\n",
    "# Set timeframe to '1D'\n",
    "timeframe = \"1D\"\n",
    "\n",
    "# Set start and end datetimes of 1 year, between now and 365 days ago.\n",
    "start_date = pd.Timestamp('2019-01-01', tz='America/New_York').isoformat()\n",
    "end_date = pd.Timestamp('2019-12-31', tz='America/New_York').isoformat()\n",
    "\n",
    "# Get 1 year's worth of historical data for SPY and AGG\n",
    "df = api.get_barset(\n",
    "    ticker,\n",
    "    timeframe,\n",
    "    limit=None,\n",
    "    start=start_date,\n",
    "    end=end_date,\n",
    "    after=None,\n",
    "    until=None,\n",
    ").df\n",
    "\n",
    "# Drop unnecessary columns\n",
    "df = df.drop(\n",
    "    columns=['open', 'high', 'low', 'volume'],\n",
    "    level=1\n",
    ")"
   ]
  },
  {
   "cell_type": "code",
   "execution_count": 5,
   "metadata": {},
   "outputs": [
    {
     "data": {
      "text/html": [
       "<div>\n",
       "<style scoped>\n",
       "    .dataframe tbody tr th:only-of-type {\n",
       "        vertical-align: middle;\n",
       "    }\n",
       "\n",
       "    .dataframe tbody tr th {\n",
       "        vertical-align: top;\n",
       "    }\n",
       "\n",
       "    .dataframe thead tr th {\n",
       "        text-align: left;\n",
       "    }\n",
       "</style>\n",
       "<table border=\"1\" class=\"dataframe\">\n",
       "  <thead>\n",
       "    <tr>\n",
       "      <th></th>\n",
       "      <th>AGG</th>\n",
       "      <th>SPY</th>\n",
       "    </tr>\n",
       "    <tr>\n",
       "      <th></th>\n",
       "      <th>close</th>\n",
       "      <th>close</th>\n",
       "    </tr>\n",
       "  </thead>\n",
       "  <tbody>\n",
       "    <tr>\n",
       "      <th>2019-01-02 00:00:00-05:00</th>\n",
       "      <td>106.585</td>\n",
       "      <td>249.89</td>\n",
       "    </tr>\n",
       "    <tr>\n",
       "      <th>2019-01-03 00:00:00-05:00</th>\n",
       "      <td>107.020</td>\n",
       "      <td>244.46</td>\n",
       "    </tr>\n",
       "    <tr>\n",
       "      <th>2019-01-04 00:00:00-05:00</th>\n",
       "      <td>106.695</td>\n",
       "      <td>252.41</td>\n",
       "    </tr>\n",
       "    <tr>\n",
       "      <th>2019-01-07 00:00:00-05:00</th>\n",
       "      <td>106.470</td>\n",
       "      <td>254.40</td>\n",
       "    </tr>\n",
       "    <tr>\n",
       "      <th>2019-01-08 00:00:00-05:00</th>\n",
       "      <td>106.420</td>\n",
       "      <td>256.65</td>\n",
       "    </tr>\n",
       "  </tbody>\n",
       "</table>\n",
       "</div>"
      ],
      "text/plain": [
       "                               AGG     SPY\n",
       "                             close   close\n",
       "2019-01-02 00:00:00-05:00  106.585  249.89\n",
       "2019-01-03 00:00:00-05:00  107.020  244.46\n",
       "2019-01-04 00:00:00-05:00  106.695  252.41\n",
       "2019-01-07 00:00:00-05:00  106.470  254.40\n",
       "2019-01-08 00:00:00-05:00  106.420  256.65"
      ]
     },
     "execution_count": 5,
     "metadata": {},
     "output_type": "execute_result"
    }
   ],
   "source": [
    "# Display sample data\n",
    "df.head()"
   ]
  },
  {
   "cell_type": "code",
   "execution_count": 6,
   "metadata": {},
   "outputs": [
    {
     "data": {
      "text/html": [
       "<div>\n",
       "<style scoped>\n",
       "    .dataframe tbody tr th:only-of-type {\n",
       "        vertical-align: middle;\n",
       "    }\n",
       "\n",
       "    .dataframe tbody tr th {\n",
       "        vertical-align: top;\n",
       "    }\n",
       "\n",
       "    .dataframe thead tr th {\n",
       "        text-align: left;\n",
       "    }\n",
       "</style>\n",
       "<table border=\"1\" class=\"dataframe\">\n",
       "  <thead>\n",
       "    <tr>\n",
       "      <th></th>\n",
       "      <th>AGG</th>\n",
       "      <th>SPY</th>\n",
       "    </tr>\n",
       "    <tr>\n",
       "      <th></th>\n",
       "      <th>close</th>\n",
       "      <th>close</th>\n",
       "    </tr>\n",
       "  </thead>\n",
       "  <tbody>\n",
       "    <tr>\n",
       "      <th>2019-01-02</th>\n",
       "      <td>106.585</td>\n",
       "      <td>249.89</td>\n",
       "    </tr>\n",
       "    <tr>\n",
       "      <th>2019-01-03</th>\n",
       "      <td>107.020</td>\n",
       "      <td>244.46</td>\n",
       "    </tr>\n",
       "    <tr>\n",
       "      <th>2019-01-04</th>\n",
       "      <td>106.695</td>\n",
       "      <td>252.41</td>\n",
       "    </tr>\n",
       "    <tr>\n",
       "      <th>2019-01-07</th>\n",
       "      <td>106.470</td>\n",
       "      <td>254.40</td>\n",
       "    </tr>\n",
       "    <tr>\n",
       "      <th>2019-01-08</th>\n",
       "      <td>106.420</td>\n",
       "      <td>256.65</td>\n",
       "    </tr>\n",
       "  </tbody>\n",
       "</table>\n",
       "</div>"
      ],
      "text/plain": [
       "                AGG     SPY\n",
       "              close   close\n",
       "2019-01-02  106.585  249.89\n",
       "2019-01-03  107.020  244.46\n",
       "2019-01-04  106.695  252.41\n",
       "2019-01-07  106.470  254.40\n",
       "2019-01-08  106.420  256.65"
      ]
     },
     "execution_count": 6,
     "metadata": {},
     "output_type": "execute_result"
    }
   ],
   "source": [
    "#remove the timestamp from the date\n",
    "\n",
    "df.index = df.index.date\n",
    "\n",
    "df.head()"
   ]
  },
  {
   "cell_type": "markdown",
   "metadata": {},
   "source": [
    "---\n",
    "\n",
    "## Monte Carlo Simulation\n",
    "\n",
    "In this step, you will run Monte Carlo Simulations for your portfolio to model portfolio performance at different retirement ages. \n",
    "\n",
    "Complete the following steps:\n",
    "\n",
    "1. Calculate the daily returns for the SPY and AGG closing prices.\n",
    "\n",
    "2. Calculate volatility for both the SPY and AGG closing prices.\n",
    "\n",
    "3. Find the last day's closing price for both stocks and save those as variables\n",
    "\n",
    "4. Run a Monte Carlo Simulation of at least `100` iterations and generate at least `30` years of closing prices\n",
    "\n",
    "**Hint:** There are `252` trading days per year, so the number of records to generate for each Monte Carlo run will be `252 days * 30 years`."
   ]
  },
  {
   "cell_type": "code",
   "execution_count": 7,
   "metadata": {},
   "outputs": [
    {
     "data": {
      "text/html": [
       "<div>\n",
       "<style scoped>\n",
       "    .dataframe tbody tr th:only-of-type {\n",
       "        vertical-align: middle;\n",
       "    }\n",
       "\n",
       "    .dataframe tbody tr th {\n",
       "        vertical-align: top;\n",
       "    }\n",
       "\n",
       "    .dataframe thead tr th {\n",
       "        text-align: left;\n",
       "    }\n",
       "</style>\n",
       "<table border=\"1\" class=\"dataframe\">\n",
       "  <thead>\n",
       "    <tr>\n",
       "      <th></th>\n",
       "      <th>AGG</th>\n",
       "      <th>SPY</th>\n",
       "    </tr>\n",
       "    <tr>\n",
       "      <th></th>\n",
       "      <th>close</th>\n",
       "      <th>close</th>\n",
       "    </tr>\n",
       "  </thead>\n",
       "  <tbody>\n",
       "    <tr>\n",
       "      <th>2019-01-03</th>\n",
       "      <td>0.004081</td>\n",
       "      <td>-0.021730</td>\n",
       "    </tr>\n",
       "    <tr>\n",
       "      <th>2019-01-04</th>\n",
       "      <td>-0.003037</td>\n",
       "      <td>0.032521</td>\n",
       "    </tr>\n",
       "    <tr>\n",
       "      <th>2019-01-07</th>\n",
       "      <td>-0.002109</td>\n",
       "      <td>0.007884</td>\n",
       "    </tr>\n",
       "    <tr>\n",
       "      <th>2019-01-08</th>\n",
       "      <td>-0.000470</td>\n",
       "      <td>0.008844</td>\n",
       "    </tr>\n",
       "    <tr>\n",
       "      <th>2019-01-09</th>\n",
       "      <td>0.000564</td>\n",
       "      <td>0.004130</td>\n",
       "    </tr>\n",
       "  </tbody>\n",
       "</table>\n",
       "</div>"
      ],
      "text/plain": [
       "                 AGG       SPY\n",
       "               close     close\n",
       "2019-01-03  0.004081 -0.021730\n",
       "2019-01-04 -0.003037  0.032521\n",
       "2019-01-07 -0.002109  0.007884\n",
       "2019-01-08 -0.000470  0.008844\n",
       "2019-01-09  0.000564  0.004130"
      ]
     },
     "execution_count": 7,
     "metadata": {},
     "output_type": "execute_result"
    }
   ],
   "source": [
    "# Calculate the daily roi for the stocks\n",
    "daily_returns = df.pct_change()\n",
    "\n",
    "\n",
    "\n",
    "#drop nulls\n",
    "\n",
    "daily_returns = daily_returns.dropna().copy()\n",
    "\n",
    "# Rename Column\n",
    "# columns = [\"AGG\", \"SPY\"]\n",
    "\n",
    "# daily_returns.columns = columns\n",
    "\n",
    "\n",
    "# Display sample data\n",
    "daily_returns.head()"
   ]
  },
  {
   "cell_type": "code",
   "execution_count": 8,
   "metadata": {},
   "outputs": [
    {
     "name": "stdout",
     "output_type": "stream",
     "text": [
      "0.0010401250682146959\n",
      "0.00021277231473764173\n"
     ]
    }
   ],
   "source": [
    "#Calculate Value of Average Daily Returns\n",
    "avg_daily_return_AGG = daily_returns.mean()[\"AGG\"][\"close\"]\n",
    "avg_daily_return_SPY = daily_returns.mean()[\"SPY\"][\"close\"]\n",
    "print(avg_daily_return_SPY)\n",
    "print(avg_daily_return_AGG)"
   ]
  },
  {
   "cell_type": "code",
   "execution_count": 9,
   "metadata": {},
   "outputs": [
    {
     "name": "stdout",
     "output_type": "stream",
     "text": [
      "0.002089826211646555\n",
      "0.007820053413439366\n"
     ]
    }
   ],
   "source": [
    "# Compute daily volatility\n",
    "#calculate the standard deviation of daily returns\n",
    "\n",
    "std_dev_daily_return_AGG = daily_returns.std()[\"AGG\"][\"close\"]\n",
    "std_dev_daily_return_SPY = daily_returns.std()[\"SPY\"][\"close\"]\n",
    "print(std_dev_daily_return_AGG)\n",
    "print(std_dev_daily_return_SPY)\n"
   ]
  },
  {
   "cell_type": "code",
   "execution_count": 10,
   "metadata": {},
   "outputs": [
    {
     "name": "stdout",
     "output_type": "stream",
     "text": [
      "321.92\n"
     ]
    }
   ],
   "source": [
    "# Save the last day's closing price\n",
    "\n",
    "AGG_last_price = df[\"AGG\"][\"close\"][-1]\n",
    "SPY_last_price = df[\"SPY\"][\"close\"][-1]\n",
    "print(SPY_last_price)"
   ]
  },
  {
   "cell_type": "code",
   "execution_count": 11,
   "metadata": {},
   "outputs": [],
   "source": [
    "# Setup the Monte Carlo Parameters\n",
    "num_simulations = 500\n",
    "num_trading_days = 252 * 30\n",
    "monte_carlo = pd.DataFrame()"
   ]
  },
  {
   "cell_type": "code",
   "execution_count": 14,
   "metadata": {},
   "outputs": [],
   "source": [
    "# Initialize empty DataFrame to hold simulated prices for each simulation\n",
    "simulated_price_df = pd.DataFrame()\n",
    "portfolio_cumulative_returns = pd.DataFrame()\n",
    "\n",
    "# Run the simulation of projecting stock prices for the next 30 trading year\n",
    "for n in range(num_simulations):\n",
    "    \n",
    "    # Initialize the simulated prices list with the last closing price of `AGG` and `SPY`\n",
    "    simulated_AGG_prices = [AGG_last_price]\n",
    "    simulated_SPY_prices = [SPY_last_price]\n",
    "    \n",
    "    # Simulate the returns for 252 days * 30 years\n",
    "    for i in range(num_trading_days):\n",
    "        \n",
    "        # Append the simulated price to the list\n",
    "        simulated_AGG_prices.append(simulated_AGG_prices[-1] * (1 + np.random.normal(avg_daily_return_AGG, std_dev_daily_return_AGG)))\n",
    "        simulated_SPY_prices.append(simulated_SPY_prices[-1] * (1 + np.random.normal(avg_daily_return_SPY, std_dev_daily_return_SPY)))\n",
    "    \n",
    "    # Append a simulated prices of each simulation to DataFrame\n",
    "    simulated_price_df[\"AGG prices\"] = pd.Series(simulated_AGG_prices)\n",
    "    simulated_price_df[\"SPY prices\"] = pd.Series(simulated_SPY_prices)\n",
    "    \n",
    "    # Calculate the daily returns of simulated prices\n",
    "    simulated_daily_returns = simulated_price_df.pct_change()\n",
    "    #print(simulated_daily_returns)\n",
    "    \n",
    "    \n",
    "    # Set the portfolio weights (40% AGG; 60% SPY)\n",
    "    weights = [0.4, 0.6]\n",
    "    \n",
    "    # Use the `dot` function with the weights to multiply weights with each column's simulated daily returns\n",
    "    portfolio_daily_returns = simulated_daily_returns.dot(weights)\n",
    "    \n",
    "    # Calculate the normalized, cumulative return series\n",
    "    portfolio_cumulative_returns[f\"Simulation{n+1}\"] = (1 + portfolio_daily_returns.fillna(0)).cumprod()\n",
    "\n",
    "\n",
    "\n",
    "\n",
    "\n",
    "\n",
    "\n",
    "\n",
    "\n",
    "\n"
   ]
  },
  {
   "cell_type": "code",
   "execution_count": null,
   "metadata": {},
   "outputs": [],
   "source": [
    " \n",
    "\n"
   ]
  },
  {
   "cell_type": "code",
   "execution_count": 15,
   "metadata": {},
   "outputs": [
    {
     "data": {
      "text/html": [
       "<div>\n",
       "<style scoped>\n",
       "    .dataframe tbody tr th:only-of-type {\n",
       "        vertical-align: middle;\n",
       "    }\n",
       "\n",
       "    .dataframe tbody tr th {\n",
       "        vertical-align: top;\n",
       "    }\n",
       "\n",
       "    .dataframe thead th {\n",
       "        text-align: right;\n",
       "    }\n",
       "</style>\n",
       "<table border=\"1\" class=\"dataframe\">\n",
       "  <thead>\n",
       "    <tr style=\"text-align: right;\">\n",
       "      <th></th>\n",
       "      <th>Simulation1</th>\n",
       "      <th>Simulation2</th>\n",
       "      <th>Simulation3</th>\n",
       "      <th>Simulation4</th>\n",
       "      <th>Simulation5</th>\n",
       "      <th>Simulation6</th>\n",
       "      <th>Simulation7</th>\n",
       "      <th>Simulation8</th>\n",
       "      <th>Simulation9</th>\n",
       "      <th>Simulation10</th>\n",
       "      <th>...</th>\n",
       "      <th>Simulation491</th>\n",
       "      <th>Simulation492</th>\n",
       "      <th>Simulation493</th>\n",
       "      <th>Simulation494</th>\n",
       "      <th>Simulation495</th>\n",
       "      <th>Simulation496</th>\n",
       "      <th>Simulation497</th>\n",
       "      <th>Simulation498</th>\n",
       "      <th>Simulation499</th>\n",
       "      <th>Simulation500</th>\n",
       "    </tr>\n",
       "  </thead>\n",
       "  <tbody>\n",
       "    <tr>\n",
       "      <th>0</th>\n",
       "      <td>1.000000</td>\n",
       "      <td>1.000000</td>\n",
       "      <td>1.000000</td>\n",
       "      <td>1.000000</td>\n",
       "      <td>1.000000</td>\n",
       "      <td>1.000000</td>\n",
       "      <td>1.000000</td>\n",
       "      <td>1.000000</td>\n",
       "      <td>1.000000</td>\n",
       "      <td>1.000000</td>\n",
       "      <td>...</td>\n",
       "      <td>1.000000</td>\n",
       "      <td>1.000000</td>\n",
       "      <td>1.000000</td>\n",
       "      <td>1.000000</td>\n",
       "      <td>1.000000</td>\n",
       "      <td>1.000000</td>\n",
       "      <td>1.000000</td>\n",
       "      <td>1.000000</td>\n",
       "      <td>1.000000</td>\n",
       "      <td>1.000000</td>\n",
       "    </tr>\n",
       "    <tr>\n",
       "      <th>1</th>\n",
       "      <td>1.000476</td>\n",
       "      <td>1.000536</td>\n",
       "      <td>0.998808</td>\n",
       "      <td>1.005394</td>\n",
       "      <td>1.011797</td>\n",
       "      <td>0.994452</td>\n",
       "      <td>0.997251</td>\n",
       "      <td>1.013277</td>\n",
       "      <td>1.000869</td>\n",
       "      <td>0.995376</td>\n",
       "      <td>...</td>\n",
       "      <td>1.002066</td>\n",
       "      <td>0.992709</td>\n",
       "      <td>1.001801</td>\n",
       "      <td>1.002671</td>\n",
       "      <td>0.996472</td>\n",
       "      <td>1.003160</td>\n",
       "      <td>1.001638</td>\n",
       "      <td>1.006800</td>\n",
       "      <td>0.998173</td>\n",
       "      <td>0.994765</td>\n",
       "    </tr>\n",
       "    <tr>\n",
       "      <th>2</th>\n",
       "      <td>1.008876</td>\n",
       "      <td>1.004699</td>\n",
       "      <td>1.003590</td>\n",
       "      <td>0.996711</td>\n",
       "      <td>1.009571</td>\n",
       "      <td>0.994247</td>\n",
       "      <td>0.994214</td>\n",
       "      <td>1.007199</td>\n",
       "      <td>1.000225</td>\n",
       "      <td>0.993036</td>\n",
       "      <td>...</td>\n",
       "      <td>1.005759</td>\n",
       "      <td>0.994517</td>\n",
       "      <td>1.003317</td>\n",
       "      <td>1.006181</td>\n",
       "      <td>0.997472</td>\n",
       "      <td>0.991774</td>\n",
       "      <td>1.002764</td>\n",
       "      <td>1.005408</td>\n",
       "      <td>0.996137</td>\n",
       "      <td>0.998871</td>\n",
       "    </tr>\n",
       "    <tr>\n",
       "      <th>3</th>\n",
       "      <td>1.008286</td>\n",
       "      <td>1.004228</td>\n",
       "      <td>1.003770</td>\n",
       "      <td>0.998232</td>\n",
       "      <td>1.007751</td>\n",
       "      <td>0.987669</td>\n",
       "      <td>0.998229</td>\n",
       "      <td>1.001361</td>\n",
       "      <td>1.000230</td>\n",
       "      <td>1.001279</td>\n",
       "      <td>...</td>\n",
       "      <td>1.006771</td>\n",
       "      <td>0.988444</td>\n",
       "      <td>1.004118</td>\n",
       "      <td>1.010565</td>\n",
       "      <td>0.993293</td>\n",
       "      <td>0.994454</td>\n",
       "      <td>1.008272</td>\n",
       "      <td>0.999144</td>\n",
       "      <td>0.998656</td>\n",
       "      <td>1.003328</td>\n",
       "    </tr>\n",
       "    <tr>\n",
       "      <th>4</th>\n",
       "      <td>1.013963</td>\n",
       "      <td>1.006575</td>\n",
       "      <td>1.008493</td>\n",
       "      <td>1.002636</td>\n",
       "      <td>1.013664</td>\n",
       "      <td>0.990972</td>\n",
       "      <td>1.003241</td>\n",
       "      <td>0.995491</td>\n",
       "      <td>1.002048</td>\n",
       "      <td>1.006036</td>\n",
       "      <td>...</td>\n",
       "      <td>1.004196</td>\n",
       "      <td>0.992123</td>\n",
       "      <td>1.004724</td>\n",
       "      <td>1.004423</td>\n",
       "      <td>0.994844</td>\n",
       "      <td>0.993782</td>\n",
       "      <td>1.005722</td>\n",
       "      <td>1.002248</td>\n",
       "      <td>0.996964</td>\n",
       "      <td>1.004095</td>\n",
       "    </tr>\n",
       "  </tbody>\n",
       "</table>\n",
       "<p>5 rows × 500 columns</p>\n",
       "</div>"
      ],
      "text/plain": [
       "   Simulation1  Simulation2  Simulation3  Simulation4  Simulation5  \\\n",
       "0     1.000000     1.000000     1.000000     1.000000     1.000000   \n",
       "1     1.000476     1.000536     0.998808     1.005394     1.011797   \n",
       "2     1.008876     1.004699     1.003590     0.996711     1.009571   \n",
       "3     1.008286     1.004228     1.003770     0.998232     1.007751   \n",
       "4     1.013963     1.006575     1.008493     1.002636     1.013664   \n",
       "\n",
       "   Simulation6  Simulation7  Simulation8  Simulation9  Simulation10  ...  \\\n",
       "0     1.000000     1.000000     1.000000     1.000000      1.000000  ...   \n",
       "1     0.994452     0.997251     1.013277     1.000869      0.995376  ...   \n",
       "2     0.994247     0.994214     1.007199     1.000225      0.993036  ...   \n",
       "3     0.987669     0.998229     1.001361     1.000230      1.001279  ...   \n",
       "4     0.990972     1.003241     0.995491     1.002048      1.006036  ...   \n",
       "\n",
       "   Simulation491  Simulation492  Simulation493  Simulation494  Simulation495  \\\n",
       "0       1.000000       1.000000       1.000000       1.000000       1.000000   \n",
       "1       1.002066       0.992709       1.001801       1.002671       0.996472   \n",
       "2       1.005759       0.994517       1.003317       1.006181       0.997472   \n",
       "3       1.006771       0.988444       1.004118       1.010565       0.993293   \n",
       "4       1.004196       0.992123       1.004724       1.004423       0.994844   \n",
       "\n",
       "   Simulation496  Simulation497  Simulation498  Simulation499  Simulation500  \n",
       "0       1.000000       1.000000       1.000000       1.000000       1.000000  \n",
       "1       1.003160       1.001638       1.006800       0.998173       0.994765  \n",
       "2       0.991774       1.002764       1.005408       0.996137       0.998871  \n",
       "3       0.994454       1.008272       0.999144       0.998656       1.003328  \n",
       "4       0.993782       1.005722       1.002248       0.996964       1.004095  \n",
       "\n",
       "[5 rows x 500 columns]"
      ]
     },
     "execution_count": 15,
     "metadata": {},
     "output_type": "execute_result"
    }
   ],
   "source": [
    "# Check that the simulation ran successfully\n",
    "# Print records from the DataFrame\n",
    "portfolio_cumulative_returns.head()\n"
   ]
  },
  {
   "cell_type": "code",
   "execution_count": 16,
   "metadata": {},
   "outputs": [
    {
     "data": {
      "text/plain": [
       "<matplotlib.axes._subplots.AxesSubplot at 0x1bf732d4848>"
      ]
     },
     "execution_count": 16,
     "metadata": {},
     "output_type": "execute_result"
    },
    {
     "data": {
      "image/png": "[encoded data removed]",
      "text/plain": [
       "<Figure size 432x288 with 1 Axes>"
      ]
     },
     "metadata": {
      "needs_background": "light"
     },
     "output_type": "display_data"
    }
   ],
   "source": [
    "# Visualize the Simulation\n",
    "\n",
    "# Use the `plot` function to plot `500` simulations of the potential trajectories of the portfolio based on 252 trading days\n",
    "plot_title = f\"{n+1} Simulations of Cumulative Portfolio Return Trajectories Over the Next 252*30 Trading Days\"\n",
    "portfolio_cumulative_returns.plot(legend=None, title=plot_title)\n"
   ]
  },
  {
   "cell_type": "code",
   "execution_count": 17,
   "metadata": {},
   "outputs": [
    {
     "data": {
      "text/plain": [
       "Simulation1    192.773859\n",
       "Simulation2    171.964137\n",
       "Simulation3    177.998514\n",
       "Simulation4    138.466715\n",
       "Simulation5    175.628015\n",
       "Name: 7560, dtype: float64"
      ]
     },
     "execution_count": 17,
     "metadata": {},
     "output_type": "execute_result"
    }
   ],
   "source": [
    "# Select the last row for the cumulative returns (cumulative returns at 20 years)\n",
    "#should be cumulative returns at 30 years????\n",
    "\n",
    "ending_cumulative_returns = portfolio_cumulative_returns.iloc[-1, :]\n",
    "ending_cumulative_returns.head()\n"
   ]
  },
  {
   "cell_type": "code",
   "execution_count": 18,
   "metadata": {},
   "outputs": [
    {
     "data": {
      "text/plain": [
       "<matplotlib.axes._subplots.AxesSubplot at 0x1bf753b6288>"
      ]
     },
     "execution_count": 18,
     "metadata": {},
     "output_type": "execute_result"
    },
    {
     "data": {
      "image/png": "[encoded data removed]",
      "text/plain": [
       "<Figure size 432x288 with 1 Axes>"
      ]
     },
     "metadata": {
      "needs_background": "light"
     },
     "output_type": "display_data"
    }
   ],
   "source": [
    "# Use the `plot` function to plot a frequency distribution of simulated ending prices\n",
    "ending_cumulative_returns.plot(kind=\"hist\", bins=10)"
   ]
  },
  {
   "cell_type": "code",
   "execution_count": 19,
   "metadata": {},
   "outputs": [],
   "source": [
    "# Select the last row for the cumulative returns (cumulative returns at 20 years)\n"
   ]
  },
  {
   "cell_type": "code",
   "execution_count": 20,
   "metadata": {},
   "outputs": [
    {
     "data": {
      "text/plain": [
       "(126.818, 202.062]               0.382\n",
       "(202.062, 277.305]               0.264\n",
       "(277.305, 352.549]               0.152\n",
       "(50.821000000000005, 126.818]    0.136\n",
       "(352.549, 427.793]               0.042\n",
       "(427.793, 503.037]               0.020\n",
       "(728.768, 804.012]               0.002\n",
       "(503.037, 578.28]                0.002\n",
       "(653.524, 728.768]               0.000\n",
       "(578.28, 653.524]                0.000\n",
       "Name: 7560, dtype: float64"
      ]
     },
     "execution_count": 20,
     "metadata": {},
     "output_type": "execute_result"
    }
   ],
   "source": [
    "#Calculate the Probability Distribution of Ending Cumulative Return Ranges\n",
    "# Use the `value_counts` function and the `len` function to calculate the probabilities of cumulative return ranges\n",
    "ending_cumulative_returns.value_counts(bins=10) / len(ending_cumulative_returns)"
   ]
  },
  {
   "cell_type": "code",
   "execution_count": 21,
   "metadata": {},
   "outputs": [
    {
     "data": {
      "text/plain": [
       "0.05    102.825606\n",
       "0.95    379.341808\n",
       "Name: 7560, dtype: float64"
      ]
     },
     "execution_count": 21,
     "metadata": {},
     "output_type": "execute_result"
    }
   ],
   "source": [
    "#Display the 90% confidence interval for the ending returns ??????\n",
    "# Use the `quantile` function to calculate the 90% confidence interval for simulated ending prices\n",
    "confidence_interval = ending_cumulative_returns.quantile(q=[0.05, 0.95])\n",
    "confidence_interval"
   ]
  },
  {
   "cell_type": "code",
   "execution_count": 22,
   "metadata": {},
   "outputs": [
    {
     "data": {
      "text/plain": [
       "<matplotlib.lines.Line2D at 0x1bf7544d2c8>"
      ]
     },
     "execution_count": 22,
     "metadata": {},
     "output_type": "execute_result"
    },
    {
     "data": {
      "image/png": "[encoded data removed]",
      "text/plain": [
       "<Figure size 432x288 with 1 Axes>"
      ]
     },
     "metadata": {
      "needs_background": "light"
     },
     "output_type": "display_data"
    }
   ],
   "source": [
    "# Visualize the distribution of the ending returns??????\n",
    "# Use the `plot` function to create a probability distribution histogram of simulated ending prices\n",
    "# with markings for a 90% confidence interval\n",
    "plt.figure();\n",
    "ending_cumulative_returns.plot(kind='hist', density=True, bins=10)\n",
    "plt.axvline(confidence_interval.iloc[0], color='r')\n",
    "plt.axvline(confidence_interval.iloc[1], color='r')\n",
    "\n"
   ]
  },
  {
   "cell_type": "markdown",
   "metadata": {},
   "source": [
    "---"
   ]
  },
  {
   "cell_type": "markdown",
   "metadata": {},
   "source": [
    "## Retirement Analysis\n",
    "\n",
    "In this section, you will use the monte carlo model to answer the following retirement planning questions:\n",
    "\n",
    "1. What are the expected cumulative returns at `30` years for the `10th`, `50th`, and `90th` percentiles?\n",
    "\n",
    "2. Given an initial investment of `$20,000`, what is the expected return in dollars at the `10th`, `50th`, and `90th` percentiles?\n",
    "\n",
    "3. Given the current projected annual income from the Plaid analysis, will a `4%` withdrawal rate meet or exceed that value at the `10th` percentile? Note: This is basically determining if retirement income is equivalent to current income.\n",
    "\n",
    "4. How would a `50%` increase in the initial investment amount affect the `4%` retirement withdrawal? In other words, what happens if the initial investment had been bigger?"
   ]
  },
  {
   "cell_type": "markdown",
   "metadata": {},
   "source": [
    "### What are the expected cumulative returns at 30 years for the 10th, 50th, and 90th percentiles?"
   ]
  },
  {
   "cell_type": "code",
   "execution_count": null,
   "metadata": {},
   "outputs": [],
   "source": [
    "# Compute cumulative returns\n"
   ]
  },
  {
   "cell_type": "markdown",
   "metadata": {},
   "source": [
    "### Given an initial investment of `$20,000`, what is the expected portfolio return in dollars at the 10th, 50th, and 90th percentiles?"
   ]
  },
  {
   "cell_type": "code",
   "execution_count": 23,
   "metadata": {},
   "outputs": [
    {
     "name": "stdout",
     "output_type": "stream",
     "text": [
      "There is a 90% chance that an initial investment of $20,000 in the portfolio over the next 252 * 30 trading days will end within in the range of $2076512.1257521 and $7606836.151115517\n"
     ]
    }
   ],
   "source": [
    "# Set initial investment\n",
    "initial_investment = 20000\n",
    "\n",
    "# Compute expected portfolio return\n",
    "investment_pnl_lower_bound = initial_investment + (initial_investment * confidence_interval.iloc[0])\n",
    "investment_pnl_upper_bound = initial_investment + (initial_investment * confidence_interval.iloc[1])\n",
    "\n",
    "# Print the results\n",
    "print(f\"There is a 90% chance that an initial investment of $20,000 in the portfolio\"\n",
    "      f\" over the next 252 * 30 trading days will end within in the range of\"\n",
    "      f\" ${investment_pnl_lower_bound} and ${investment_pnl_upper_bound}\")\n",
    "\n"
   ]
  },
  {
   "cell_type": "markdown",
   "metadata": {},
   "source": [
    "### Given the current projected annual income from the Plaid analysis, will a 4% withdraw rate from the retirement portfolio meet or exceed that value at the 10th percentile?\n",
    "\n",
    "Note: This is effectively saying that 90% of the expected returns will be greater than the return at the 10th percentile, so this can help measure the uncertainty about having enough funds at retirement"
   ]
  },
  {
   "cell_type": "code",
   "execution_count": 24,
   "metadata": {},
   "outputs": [],
   "source": [
    "# Set Plaid's projected income\n",
    "\n",
    "# Calculate the 4% withdrawal for the ending return as retirement income\n",
    "\n",
    "# Determine if the retirement income meets or exceeds the current projected income\n"
   ]
  },
  {
   "cell_type": "markdown",
   "metadata": {},
   "source": [
    "### How would a 50% increase in the initial investment amount affect the 4% retirement withdrawal?"
   ]
  },
  {
   "cell_type": "code",
   "execution_count": 25,
   "metadata": {},
   "outputs": [],
   "source": [
    "# Re-calculate the retirement income with a 50% increase in the initial investment amount\n"
   ]
  },
  {
   "cell_type": "markdown",
   "metadata": {},
   "source": [
    "### Optional Challenge\n",
    "\n",
    "Use the Monte Carlo data and calculate the cumulative returns at the `5%`, `50%`, and `95%` quartiles and plot this data as a line chart to see how the cumulative returns change over the life of the investment.\n",
    "\n",
    "In this section, you need to calculate and plot the cumulative returns for the median and `90%` confidence intervals. This plot shows the expected cumulative returns for any given day between the first day and the last day of investment. "
   ]
  },
  {
   "cell_type": "code",
   "execution_count": null,
   "metadata": {},
   "outputs": [],
   "source": [
    "# Compute projected returns\n",
    "\n",
    "# Display sample data\n"
   ]
  },
  {
   "cell_type": "code",
   "execution_count": null,
   "metadata": {},
   "outputs": [],
   "source": [
    "# Plot the cumulative returns over time\n"
   ]
  },
  {
   "cell_type": "code",
   "execution_count": null,
   "metadata": {},
   "outputs": [],
   "source": [
    "# Compute portfolio performance over time\n",
    "\n",
    "# Plot projected performance over time\n"
   ]
  }
 ],
 "metadata": {
  "kernelspec": {
   "display_name": "Python 3",
   "language": "python",
   "name": "python3"
  },
  "language_info": {
   "codemirror_mode": {
    "name": "ipython",
    "version": 3
   },
   "file_extension": ".py",
   "mimetype": "text/x-python",
   "name": "python",
   "nbconvert_exporter": "python",
   "pygments_lexer": "ipython3",
   "version": "3.7.7"
  }
 },
 "nbformat": 4,
 "nbformat_minor": 4
}
